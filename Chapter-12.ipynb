{
 "cells": [
  {
   "cell_type": "markdown",
   "metadata": {},
   "source": [
    "# Setting of camera or video\n"
   ]
  },
  {
   "cell_type": "code",
   "execution_count": null,
   "metadata": {},
   "outputs": [],
   "source": [
    "import cv2 as cv\n",
    "import numpy as np\n",
    "cap=cv.VideoCapture(0)\n",
    "\n",
    "cap.set(10,50) #10 is the key to change brightness\n",
    "cap.set(3,640) #3 key is for width\n",
    "cap.set(4,280) #4 key is for height\n",
    "\n",
    "while(True):\n",
    "    (ret, frame) = cap.read()\n",
    "   # to show in player\n",
    "    if ret == True:\n",
    "        cv.imshow(\"Video\",frame)\n",
    "        # to quit with Q key\n",
    "        if cv.waitKey(1) & 0xFF == ord('q'):\n",
    "            break\n",
    "    else:\n",
    "        break\n",
    "\n",
    "# Step-4 release or close windows easily\n",
    "cap.release()\n",
    "cv.destroyAllWindows "
   ]
  }
 ],
 "metadata": {
  "language_info": {
   "name": "python"
  },
  "orig_nbformat": 4
 },
 "nbformat": 4,
 "nbformat_minor": 2
}
