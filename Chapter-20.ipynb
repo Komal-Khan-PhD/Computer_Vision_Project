{
 "cells": [
  {
   "cell_type": "markdown",
   "metadata": {},
   "source": [
    "# Split your video into frames or image sequence"
   ]
  },
  {
   "cell_type": "code",
   "execution_count": null,
   "metadata": {},
   "outputs": [],
   "source": [
    "import cv2 as cv\n",
    "cap= cv.VideoCapture('resources/video.mp4')\n",
    "frameNr=0\n",
    "\n",
    "while(True):\n",
    "    success,frame= cap.read()\n",
    "    if success:\n",
    "        cv.imwrite(f\"resources/frame_{frameNr}.jpg\",frame) # Assignment: In Python source code, an f-string is a literal string, prefixed with 'f', which contains expressions inside braces. The expressions are replaced with their values.\n",
    "    else:\n",
    "        break\n",
    "    frameNr = frameNr+1\n",
    "cap.release()\n"
   ]
  }
 ],
 "metadata": {
  "interpreter": {
   "hash": "bba5da81b649e0f726aa0f64cf4782efe43cc239dc5af57ac5e4d7794e8e829f"
  },
  "kernelspec": {
   "display_name": "Python 3.9.10 64-bit",
   "language": "python",
   "name": "python3"
  },
  "language_info": {
   "name": "python",
   "version": "3.9.10"
  },
  "orig_nbformat": 4
 },
 "nbformat": 4,
 "nbformat_minor": 2
}
