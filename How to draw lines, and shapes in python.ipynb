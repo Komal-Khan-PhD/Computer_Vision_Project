{
 "cells": [
  {
   "cell_type": "markdown",
   "metadata": {},
   "source": [
    "# How to draw lines, and shapes in python\n"
   ]
  },
  {
   "cell_type": "code",
   "execution_count": null,
   "metadata": {},
   "outputs": [],
   "source": [
    "from traceback import print_list\n",
    "import cv2 as cv\n",
    "import numpy as np\n",
    "\n",
    "# Draw a canvas 0 is for black\n",
    "img= np.zeros((600,600)) # black\n",
    "img1= np.ones((600,600)) #white\n",
    "\n",
    "# print size\n",
    "print(\"The size of our canvas is: \",img.shape)\n",
    "print(img) # to show the matrices of the image\n",
    "\n",
    "#adding colors to the canvas\n",
    "colored_img= np.zeros((600,600,3), np.uint8) #The desired data-type for the array , which we choose uint8 that represents an unsigned integer number stored with 8 bit.\n",
    "\n",
    "colored_img[:]=255,0,255 #color complete image\n",
    "\n",
    "colored_img[150:230, 100:500]=255,168,10 #part of image to be colored\n",
    "\n",
    "#Adding line\n",
    "cv.line(colored_img,(0,0),(colored_img.shape[0],colored_img.shape[1]),(255,0,0),3) # crossed line\n",
    "cv.line(colored_img,(100,100),(300,300),(255,255,50),3) # part line\n",
    "\n",
    "# adding rectangles\n",
    "cv.rectangle(colored_img, (50,100), (300,400), (255,255,255), 3)\n",
    "cv.rectangle(colored_img, (50,100), (300,400), (255,255,255), cv.FILLED)\n",
    "\n",
    "# adding circle\n",
    "cv.circle(colored_img, (400,300), 50, (255,100,0), 5)\n",
    "cv.circle(colored_img, (400,300), 50, (255,100,0), cv.FILLED)\n",
    "# adding text \n",
    "# cv.putText(colored_img,\"Python ka chilla\",(200,500), cv.FONT_HERSHEY_DUPLEX,1,(255,0,233),1)\n",
    "\n",
    "# Assignment: add next line\n",
    "# Unfortunately putText doesn't correctly handle \\n symbols. See the relevant rejected pull request. You need to split your text yourself and make several putText calls, something like:\n",
    "\n",
    "text = \"Python ka \\n chilla\"\n",
    "y0, dy = 200, 40\n",
    "for i, line in enumerate(text.split('\\n')):\n",
    "    y = y0 + i*dy\n",
    "    cv.putText(colored_img, line, (y0, y), cv.FONT_HERSHEY_DUPLEX,1,(255,200,233),1)\n",
    "\n",
    "# cv.imshow(\"Black \", img)\n",
    "# cv.imshow(\"White\", img1)\n",
    "cv.imshow(\"Colored\", colored_img)\n",
    "cv.waitKey(0)\n",
    "cv.destroyAllWindows()"
   ]
  }
 ],
 "metadata": {
  "interpreter": {
   "hash": "bba5da81b649e0f726aa0f64cf4782efe43cc239dc5af57ac5e4d7794e8e829f"
  },
  "kernelspec": {
   "display_name": "Python 3.9.10 64-bit",
   "language": "python",
   "name": "python3"
  },
  "language_info": {
   "codemirror_mode": {
    "name": "ipython",
    "version": 3
   },
   "file_extension": ".py",
   "mimetype": "text/x-python",
   "name": "python",
   "nbconvert_exporter": "python",
   "pygments_lexer": "ipython3",
   "version": "3.9.10"
  },
  "orig_nbformat": 4
 },
 "nbformat": 4,
 "nbformat_minor": 2
}
