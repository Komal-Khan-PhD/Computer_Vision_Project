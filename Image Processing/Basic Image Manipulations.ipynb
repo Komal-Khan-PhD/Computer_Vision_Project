{
 "cells": [
  {
   "cell_type": "markdown",
   "metadata": {},
   "source": [
    "# Basic functions or manipulation in open cv\n"
   ]
  },
  {
   "cell_type": "code",
   "execution_count": null,
   "metadata": {},
   "outputs": [],
   "source": [
    "\n",
    "import cv2 as cv\n",
    "from cv2 import resize\n",
    "import numpy as np\n",
    "img= cv.imread(\"resources/image.jpg\")\n",
    "img= cv.resize(img,(500,700))\n",
    "# resize image\n",
    "resized_img=cv.resize(img,(450,450))\n",
    "# convert to gray\n",
    "gray_img=cv.cvtColor(img, cv.COLOR_BGR2GRAY) #use isColor=false arg in VideoWriter function\n",
    "\n",
    "# blur the image\n",
    "blurr_img= cv.GaussianBlur(img,(23,23),0)\n",
    "\n",
    "#edge detection\n",
    "edge_img= cv.Canny(img,48,48)\n",
    "\n",
    "# thickness of lines\n",
    "mat_kernel= np.ones((7,7),np.uint8)\n",
    "dilated_img= cv.dilate(edge_img,(7,7),iterations=1) # always keep odd numbers for matrices, iteration means coating\n",
    "\n",
    "# Make thinner outline\n",
    "ero_img=cv.erode(dilated_img, mat_kernel,iterations=1)\n",
    "\n",
    "# Crop image\n",
    "print(\"The size of our image is:\", img.shape)\n",
    "crop_img= img[0:200,200:300]\n",
    "\n",
    "# To show the image in window\n",
    "cv.imshow(\"Original image\",img)\n",
    "cv.imshow(\"Resized image\",resized_img)\n",
    "cv.imshow(\"Gray image\",gray_img)\n",
    "cv.imshow(\"blurred image\",blurr_img)\n",
    "cv.imshow(\"edge detected image\",edge_img)\n",
    "cv.imshow(\"dilated image\",dilated_img)\n",
    "cv.imshow(\"Errosion\", ero_img)\n",
    "cv.imshow(\"Cropped Image\", crop_img)\n",
    "cv.waitKey(0)\n",
    "cv.destroyAllWindows"
   ]
  }
 ],
 "metadata": {
  "language_info": {
   "name": "python"
  },
  "orig_nbformat": 4
 },
 "nbformat": 4,
 "nbformat_minor": 2
}
