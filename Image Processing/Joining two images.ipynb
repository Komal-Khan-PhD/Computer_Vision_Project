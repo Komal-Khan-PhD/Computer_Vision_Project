{
 "cells": [
  {
   "cell_type": "markdown",
   "metadata": {},
   "source": [
    "# Joining two images\n"
   ]
  },
  {
   "cell_type": "code",
   "execution_count": 12,
   "metadata": {},
   "outputs": [
    {
     "data": {
      "text/plain": [
       "(600, 500, 3)"
      ]
     },
     "execution_count": 12,
     "metadata": {},
     "output_type": "execute_result"
    }
   ],
   "source": [
    "import cv2 as cv \n",
    "import numpy as np\n",
    "img=cv.imread(\"resources/image.jpg\")\n",
    "\n",
    "# Stacking same image\n",
    "\n",
    "#1- Horizontal stack\n",
    "\n",
    "hor_img= np.hstack((img, img))qq\n",
    "\n",
    "#2- Vertical stack\n",
    "\n",
    "ver_img = np.vstack((img,img))\n",
    "\n",
    "cv.imshow(\"Horizontal\",hor_img)\n",
    "cv.imshow(\"Vertical\",ver_img)\n",
    "cv.waitKey(0)\n",
    "cv.destroyAllWindows()\n",
    "\n",
    "#you can only stack images with same shape (width, height, color channel)\n",
    "#we can't resize the stack images(but with functions) \n",
    "# same no. of channels np funtion\n",
    "(600,500,3)\n"
   ]
  },
  {
   "cell_type": "code",
   "execution_count": 2,
   "metadata": {},
   "outputs": [],
   "source": [
    "# Assignment: Define a function to stack multiple images of different sizes and tunes\n",
    "import cv2 as cv \n",
    "import numpy as np\n",
    "\n",
    "img1=cv.imread(\"resources\\Image_gray.jpg\")\n",
    "img2=cv.imread(\"resources\\image.jpg\")\n",
    "\n",
    "# a function that will take in an image array. If the array is 2D, meaning it's in grayscale, convert it to 3D and return the 3D array. Otherwise, return the original array.\n",
    "def convert_channels(img):\n",
    "    if img.ndim == 2:\n",
    "        return cv.cvtColor(img, cv.COLOR_GRAY2BGR)  \n",
    "    return img\n",
    "# a function that will take in a list of image arrays, and return the greatest width and height among the images.\n",
    "def canvas_size(imgs):\n",
    "    h_max = 0\n",
    "    w_max = 0\n",
    "    for img in imgs:\n",
    "        h, w, _ = img.shape\n",
    "        if h > h_max:\n",
    "            h_max = h\n",
    "        if w > w_max:\n",
    "            w_max = w\n",
    "    return w_max, h_max\n",
    "#  a function that will take in a list of image arrays, and return a list of images with each image from the original list, only broadcasted to a black canvas. The black canvas should get its dimensions from the canvas_size function\n",
    "def padded_imgs(imgs):\n",
    "    max_w, max_h = canvas_size(imgs)\n",
    "    imgs_new = []\n",
    "    for img in map(convert_channels, imgs):\n",
    "        h, w, _ = img.shape\n",
    "        canvas = np.zeros((max_h, max_w, 3)).astype(\"uint8\")\n",
    "        canvas[:h, :w] = img\n",
    "        imgs_new.append(canvas)\n",
    "    return imgs_new\n",
    "\n",
    "\n",
    "while True:\n",
    "    img1, img2=padded_imgs([img1, img2])\n",
    "    img_stack = np.vstack((img1, img2))\n",
    "    resized_img=cv.resize(img_stack,(450,450))\n",
    "    cv.imshow(\"Stacked Images\",img_stack)\n",
    "    cv.imwrite(\"resources\\img_stacked.jpg\",img_stack)\n",
    "    if cv.waitKey(1) & 0xFF == ord('q'):\n",
    "            break\n",
    "\n",
    "cv.destroyAllWindows()"
   ]
  }
 ],
 "metadata": {
  "interpreter": {
   "hash": "bba5da81b649e0f726aa0f64cf4782efe43cc239dc5af57ac5e4d7794e8e829f"
  },
  "kernelspec": {
   "display_name": "Python 3.9.10 64-bit",
   "language": "python",
   "name": "python3"
  },
  "language_info": {
   "codemirror_mode": {
    "name": "ipython",
    "version": 3
   },
   "file_extension": ".py",
   "mimetype": "text/x-python",
   "name": "python",
   "nbconvert_exporter": "python",
   "pygments_lexer": "ipython3",
   "version": "3.9.10"
  },
  "orig_nbformat": 4
 },
 "nbformat": 4,
 "nbformat_minor": 2
}
