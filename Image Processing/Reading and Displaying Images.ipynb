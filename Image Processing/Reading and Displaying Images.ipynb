{
 "cells": [
  {
   "cell_type": "markdown",
   "metadata": {},
   "source": [
    "# Reading an image and displaying it\n"
   ]
  },
  {
   "cell_type": "code",
   "execution_count": null,
   "metadata": {},
   "outputs": [],
   "source": [
    "# import library\n",
    "import cv2  as cv\n",
    "\n",
    "# To read the image \n",
    "img= cv.imread(\"resources/image.jpg\")\n",
    "\n",
    "# To show the image in window\n",
    "cv.imshow(\"Pehli image\",img)\n",
    "\n",
    "# To wait 0 represents forever\n",
    "cv.waitKey(0)"
   ]
  }
 ],
 "metadata": {
  "language_info": {
   "name": "python"
  },
  "orig_nbformat": 4
 },
 "nbformat": 4,
 "nbformat_minor": 2
}
