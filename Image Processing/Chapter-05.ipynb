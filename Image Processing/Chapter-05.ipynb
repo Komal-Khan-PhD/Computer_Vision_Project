{
 "cells": [
  {
   "cell_type": "markdown",
   "metadata": {},
   "source": [
    "# Writing images\n"
   ]
  },
  {
   "cell_type": "code",
   "execution_count": null,
   "metadata": {},
   "outputs": [],
   "source": [
    "import cv2 as cv\n",
    "img= cv.imread(\"resources/image.jpg\")\n",
    "\n",
    "gray =cv.cvtColor(img, cv.COLOR_BGR2GRAY)\n",
    "(thresh, binary)= cv.threshold(gray,127,255,cv.THRESH_BINARY)\n",
    "# To resize the image\n",
    "binary= cv.resize(binary,(800,600))\n",
    "\n",
    "cv.imwrite(\"resources/Image_gray.jpg\",gray)\n",
    "cv.imwrite(\"resources/Image_binary.jpg\",binary)\n",
    "cv.waitKey(0)\n",
    "cv.destroyAllWindows"
   ]
  }
 ],
 "metadata": {
  "language_info": {
   "name": "python"
  },
  "orig_nbformat": 4
 },
 "nbformat": 4,
 "nbformat_minor": 2
}
