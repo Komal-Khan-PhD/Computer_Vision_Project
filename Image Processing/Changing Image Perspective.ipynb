{
 "cells": [
  {
   "cell_type": "markdown",
   "metadata": {},
   "source": [
    "# How to change perspective of the image (straighten the document)"
   ]
  },
  {
   "cell_type": "code",
   "execution_count": 11,
   "metadata": {},
   "outputs": [
    {
     "name": "stdout",
     "output_type": "stream",
     "text": [
      "(4000, 3000, 3)\n"
     ]
    }
   ],
   "source": [
    "import cv2 as cv\n",
    "import numpy as np\n",
    "\n",
    "img= cv.imread('resources/warp.jpg')\n",
    "print(img.shape)\n",
    "resized_img=cv.resize(img,(450,450))\n",
    "# Defining points as found in chapter 19\n",
    "point1= np.float32([[41,31],[14,375],[347,23],[431,355]]) #upper-left, bottom-left, upper-right, bottom-right\n",
    "width,height= 800,900 \n",
    "point2= np.float32([[0,0],[0,height],[800,0],[width,height]])\n",
    "# You can resize the output image \n",
    "# out_img= cv.resize\n",
    "matrix =cv.getPerspectiveTransform(point1,point2)\n",
    "out_img=cv.warpPerspective(resized_img,matrix,(width,height))\n",
    "\n",
    "cv.imshow(\"Original\",resized_img)\n",
    "cv.imshow(\"Transformed\",out_img)\n",
    "cv.imwrite('resources/warp_perspective.png',out_img)\n",
    "cv.waitKey(0)\n",
    "cv.destroyAllWindows()"
   ]
  },
  {
   "cell_type": "code",
   "execution_count": null,
   "metadata": {},
   "outputs": [],
   "source": []
  }
 ],
 "metadata": {
  "interpreter": {
   "hash": "bba5da81b649e0f726aa0f64cf4782efe43cc239dc5af57ac5e4d7794e8e829f"
  },
  "kernelspec": {
   "display_name": "Python 3.9.10 64-bit",
   "language": "python",
   "name": "python3"
  },
  "language_info": {
   "codemirror_mode": {
    "name": "ipython",
    "version": 3
   },
   "file_extension": ".py",
   "mimetype": "text/x-python",
   "name": "python",
   "nbconvert_exporter": "python",
   "pygments_lexer": "ipython3",
   "version": "3.9.10"
  },
  "orig_nbformat": 4
 },
 "nbformat": 4,
 "nbformat_minor": 2
}
