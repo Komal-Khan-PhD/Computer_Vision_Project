{
 "cells": [
  {
   "cell_type": "markdown",
   "metadata": {},
   "source": [
    "# Converting image to blacks and white\n"
   ]
  },
  {
   "cell_type": "code",
   "execution_count": null,
   "metadata": {},
   "outputs": [],
   "source": [
    "\n",
    "import cv2 as cv\n",
    "\n",
    "img= cv.imread(\"resources/image.jpg\")\n",
    "\n",
    "gray =cv.cvtColor(img, cv.COLOR_BGR2GRAY)\n",
    "# To convert image in binary form   \n",
    "(thresh, binary)= cv.threshold(gray,127,255,cv.THRESH_BINARY)\n",
    "\n",
    "cv.imshow('original',img)\n",
    "cv.imshow('gray',gray)\n",
    "cv.imshow('Black and White',binary)\n",
    "cv.waitKey(0)\n",
    "cv.destroyAllWindows"
   ]
  }
 ],
 "metadata": {
  "language_info": {
   "name": "python"
  },
  "orig_nbformat": 4
 },
 "nbformat": 4,
 "nbformat_minor": 2
}
