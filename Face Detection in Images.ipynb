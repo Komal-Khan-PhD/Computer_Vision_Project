{
 "cells": [
  {
   "cell_type": "markdown",
   "metadata": {},
   "source": [
    "# Face Detection in images"
   ]
  },
  {
   "cell_type": "code",
   "execution_count": 3,
   "metadata": {},
   "outputs": [],
   "source": [
    "import cv2 as cv\n",
    "import numpy as np\n",
    "\n",
    "face_cascade= cv.CascadeClassifier('resources\\haarcascade_frontalface_default.xml')\n",
    "\n",
    "img=cv.imread('resources\\image.jpg')\n",
    "# print(img.shape) # results in (height, width)\n",
    "img= cv.resize(img, (912,684)) # divided width and height by 4 to resize \n",
    "gray_img= cv.cvtColor(img, cv.COLOR_BGR2GRAY)\n",
    "\n",
    "faces= face_cascade.detectMultiScale(gray_img,1.1,4)\n",
    " \n",
    "# Draw a rectangle\n",
    "\n",
    "for (x,y,w,h) in faces:\n",
    "    cv.rectangle(img, (x,y),(x+w, y+h), (255,0,0), 2)\n",
    "\n",
    "cv.imshow('image',img)\n",
    "cv.imwrite('resources/faces.jpg',img)\n",
    "cv.waitKey(0)\n",
    "cv.destroyAllWindows()"
   ]
  }
 ],
 "metadata": {
  "interpreter": {
   "hash": "bba5da81b649e0f726aa0f64cf4782efe43cc239dc5af57ac5e4d7794e8e829f"
  },
  "kernelspec": {
   "display_name": "Python 3.9.10 64-bit",
   "language": "python",
   "name": "python3"
  },
  "language_info": {
   "codemirror_mode": {
    "name": "ipython",
    "version": 3
   },
   "file_extension": ".py",
   "mimetype": "text/x-python",
   "name": "python",
   "nbconvert_exporter": "python",
   "pygments_lexer": "ipython3",
   "version": "3.9.10"
  },
  "orig_nbformat": 4
 },
 "nbformat": 4,
 "nbformat_minor": 2
}
