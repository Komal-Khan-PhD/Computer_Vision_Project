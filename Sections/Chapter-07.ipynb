{
 "cells": [
  {
   "cell_type": "markdown",
   "metadata": {},
   "source": [
    "# Converting a video in gray or black and white\n"
   ]
  },
  {
   "cell_type": "code",
   "execution_count": null,
   "metadata": {},
   "outputs": [],
   "source": [
    "import cv2 as cv\n",
    "from cv2 import cvtColor\n",
    "\n",
    "cap= cv.VideoCapture('resources/video.mp4') # remember to give path in a correct way\n",
    "\n",
    "# indicator\n",
    "if(cap.isOpened()==False):\n",
    "    print(\"error in reading video\")\n",
    "\n",
    "#reading and playing\n",
    "\n",
    "while(cap.isOpened()):\n",
    "    (ret,frame)=cap.read()\n",
    "    grayframe= cv.cvtColor(frame,cv.COLOR_BGR2GRAY) # convering frames to gray \n",
    "    (thresh, binary)= cv.threshold(grayframe,127,255,cv.THRESH_BINARY) # convering gray frames to binary  \n",
    "    if ret==True:\n",
    "        cv.imshow(\"Video\",binary)\n",
    "        if cv.waitKey(1) & 0xFF == ord('q'):\n",
    "            break\n",
    "    else:\n",
    "        break\n",
    "cap.release()\n",
    "cv.destroyAllWindows()\n"
   ]
  }
 ],
 "metadata": {
  "language_info": {
   "name": "python"
  },
  "orig_nbformat": 4
 },
 "nbformat": 4,
 "nbformat_minor": 2
}
