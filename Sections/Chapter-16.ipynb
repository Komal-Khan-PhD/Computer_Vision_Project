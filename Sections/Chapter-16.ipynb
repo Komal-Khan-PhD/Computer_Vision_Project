{
 "cells": [
  {
   "cell_type": "markdown",
   "metadata": {},
   "source": [
    "# Saving HD Recording of Cam Streaming\n"
   ]
  },
  {
   "cell_type": "code",
   "execution_count": null,
   "metadata": {},
   "outputs": [],
   "source": [
    "import cv2 as cv\n",
    "import numpy as np\n",
    "\n",
    "cap=cv.VideoCapture(0)\n",
    "\n",
    "\n",
    "def hd_resolution():\n",
    "    cap.set(3,1280)\n",
    "    cap.set(4,720)\n",
    "def sd_resolution():\n",
    "    cap.set(3,640)\n",
    "    cap.set(4,480)\n",
    "def fhd_resolution():\n",
    "    cap.set(3,1920)\n",
    "    cap.set(4,1080)  \n",
    "\n",
    "hd_resolution()\n",
    "# sd_resolution()\n",
    "# fhd_resolution()\n",
    "\n",
    "#writing format, codec, video writer object and file output\n",
    "frame_width=int(cap.get(3)) # width\n",
    "frame_height=int(cap.get(4))  # height\n",
    "out= cv.VideoWriter(\"resources/Out_video.avi\", cv.VideoWriter_fourcc(*'MJPG'), 30, (frame_width,frame_height)) \n",
    "\n",
    "while(True):\n",
    "    (ret, frame) = cap.read()\n",
    "     # to show in player\n",
    "    if ret == True:\n",
    "        out.write(frame)\n",
    "        cv.imshow(\"Video\",frame)\n",
    "        # to quit with Q key\n",
    "        if cv.waitKey(1) & 0xFF == ord('q'):\n",
    "            break\n",
    "    else:\n",
    "        break\n",
    "\n",
    "# Step-4 release or close windows easily\n",
    "cap.release()\n",
    "# After we release our webcam, we also release the output\n",
    "out.release()\n",
    "cv.destroyAllWindows\n"
   ]
  }
 ],
 "metadata": {
  "language_info": {
   "name": "python"
  },
  "orig_nbformat": 4
 },
 "nbformat": 4,
 "nbformat_minor": 2
}
