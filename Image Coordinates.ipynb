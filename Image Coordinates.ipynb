{
 "cells": [
  {
   "cell_type": "markdown",
   "metadata": {},
   "source": [
    "# Coordinates of an image or video"
   ]
  },
  {
   "cell_type": "code",
   "execution_count": 9,
   "metadata": {},
   "outputs": [
    {
     "name": "stdout",
     "output_type": "stream",
     "text": [
      "192  157\n",
      "54  93\n",
      "324  72\n",
      "142  235\n",
      "414  106\n"
     ]
    }
   ],
   "source": [
    "# Step-1 Import libraries\n",
    "import cv2 as cv\n",
    "import numpy as np\n",
    "\n",
    "# Step-2 Define a function \n",
    "def find_coord(event, x,y, flags, params):\n",
    "    if event==cv.EVENT_FLAG_LBUTTON:\n",
    "        #left mouse click\n",
    "        print(x,'',y)\n",
    "\n",
    "        #how to define or print on the same image or window\n",
    "        font= cv.FONT_HERSHEY_PLAIN\n",
    "        cv.putText(resized_img,str(x) + ',' + str(y),(x,y),font,1,(255,0,179),thickness=2)\n",
    "        #show the text  on image itself\n",
    "        cv.imshow(\"image\",resized_img)\n",
    "    # for color finding\n",
    "    if event==cv.EVENT_FLAG_RBUTTON:\n",
    "        print(x,'',y)\n",
    "        font= cv.FONT_HERSHEY_PLAIN\n",
    "        b= img[y,x,0]\n",
    "        g= img[y,x,1]\n",
    "        r= img[y,x,2]\n",
    "        cv.putText(resized_img,str(b) + ',' + str(g)+ ',' + str(r),(x,y),font,1,(255,0,0),thickness=2)\n",
    "        cv.imshow('image',resized_img)\n",
    "\n",
    "# Step-3 Final function to read a display\n",
    "\n",
    "if __name__ == \"__main__\":\n",
    "    #reading an image \n",
    "    img= cv.imread(\"resources/warp.jpg\",1)\n",
    "    resized_img=cv.resize(img,(450,450))\n",
    "    #display the image\n",
    "    cv.imshow(\"image\",resized_img)\n",
    "    # setting callback function\n",
    "    cv.setMouseCallback(\"image\",find_coord)\n",
    "    cv.waitKey(0)\n",
    "    cv.destroyAllWindows()"
   ]
  },
  {
   "cell_type": "code",
   "execution_count": null,
   "metadata": {},
   "outputs": [],
   "source": []
  }
 ],
 "metadata": {
  "interpreter": {
   "hash": "bba5da81b649e0f726aa0f64cf4782efe43cc239dc5af57ac5e4d7794e8e829f"
  },
  "kernelspec": {
   "display_name": "Python 3.9.10 64-bit",
   "language": "python",
   "name": "python3"
  },
  "language_info": {
   "codemirror_mode": {
    "name": "ipython",
    "version": 3
   },
   "file_extension": ".py",
   "mimetype": "text/x-python",
   "name": "python",
   "nbconvert_exporter": "python",
   "pygments_lexer": "ipython3",
   "version": "3.9.10"
  },
  "orig_nbformat": 4
 },
 "nbformat": 4,
 "nbformat_minor": 2
}
