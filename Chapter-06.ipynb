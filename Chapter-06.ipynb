{
 "cells": [
  {
   "cell_type": "markdown",
   "metadata": {},
   "source": [
    "# Reading a video \n"
   ]
  },
  {
   "cell_type": "code",
   "execution_count": null,
   "metadata": {},
   "outputs": [],
   "source": [
    "import cv2 as cv\n",
    "\n",
    "cap= cv.VideoCapture('resources/video.mp4') # remember to give path in a correct way\n",
    "\n",
    "# indicator\n",
    "if(cap.isOpened()==False):\n",
    "    print(\"error in reading video\")\n",
    "\n",
    "#reading and playing\n",
    "\n",
    "while(cap.isOpened()):\n",
    "    (ret,frame)=cap.read()\n",
    "    if ret==True:\n",
    "        cv.imshow(\"Video\",frame)\n",
    "        if cv.waitKey(1) & 0xFF == ord('q'):\n",
    "            break\n",
    "    else:\n",
    "        break\n",
    "cap.release()\n",
    "cv.destroyAllWindows()\n"
   ]
  }
 ],
 "metadata": {
  "language_info": {
   "name": "python"
  },
  "orig_nbformat": 4
 },
 "nbformat": 4,
 "nbformat_minor": 2
}
