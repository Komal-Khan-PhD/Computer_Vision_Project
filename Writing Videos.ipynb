{
 "cells": [
  {
   "cell_type": "markdown",
   "metadata": {},
   "source": [
    "# Writing a video and converting to gray"
   ]
  },
  {
   "cell_type": "code",
   "execution_count": null,
   "metadata": {},
   "outputs": [],
   "source": [
    "import cv2 as cv\n",
    "\n",
    "cap= cv.VideoCapture('resources/video.mp4') # remember to give path in a correct way\n",
    "\n",
    "# writing format, codec, video writer object and file output\n",
    "frame_width= int(cap.get(3))\n",
    "frame_height= int(cap.get(4))\n",
    "out= cv.VideoWriter(\"resources/Out_video.avi\", cv.VideoWriter_fourcc('M','J','P','G'),10,(frame_width,frame_height),isColor=False)\n",
    "\n",
    "\n",
    "#reading and playing\n",
    "\n",
    "while(cap.isOpened()):\n",
    "    (ret,frame)=cap.read()\n",
    "    grayframe= cv.cvtColor(frame,cv.COLOR_BGR2GRAY)\n",
    "    if ret==True:\n",
    "        out.write(grayframe)\n",
    "        cv.imshow(\"Video\",grayframe)\n",
    "        if cv.waitKey(1) & 0xFF == ord('q'):\n",
    "            break\n",
    "    else:\n",
    "        break\n",
    "cap.release()\n",
    "out.release()\n",
    "cv.destroyAllWindows()\n"
   ]
  }
 ],
 "metadata": {
  "language_info": {
   "name": "python"
  },
  "orig_nbformat": 4
 },
 "nbformat": 4,
 "nbformat_minor": 2
}
