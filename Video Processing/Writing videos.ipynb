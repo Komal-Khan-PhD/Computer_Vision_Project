{
 "cells": [
  {
   "cell_type": "markdown",
   "metadata": {},
   "source": [
    "# Writing videos from cam\n"
   ]
  },
  {
   "cell_type": "code",
   "execution_count": null,
   "metadata": {},
   "outputs": [],
   "source": [
    "import cv2 as cv\n",
    "cap= cv.VideoCapture(0)\n",
    "# Assignment: increased frame width and height  to 1280, 720 and fps to 30 which matches my camera specs \n",
    "# Setting the resolution i.e. width and height\n",
    "cap.set(3,1280)\n",
    "cap.set(4,720)\n",
    "#writing format, codec, video writer object and file output\n",
    "frame_width= int(cap.get(3)) # 640-> 1280\n",
    "frame_height= int(cap.get(4)) # 480-> 720\n",
    "print(\"frame width and height\",frame_width,frame_height)\n",
    "out= cv.VideoWriter(\"resources/Out_video.avi\", cv.VideoWriter_fourcc(*'MJPG'), 30, (frame_width,frame_height),isColor=False) \n",
    "\n",
    "while(True):\n",
    "    (ret, frame) = cap.read()\n",
    "    gray_frame=cv.cvtColor(frame, cv.COLOR_BGR2GRAY) #use isColor=false arg in VideoWriter function\n",
    "    # to show in player\n",
    "    if ret == True:\n",
    "        out.write(gray_frame)\n",
    "        cv.imshow(\"Video\",gray_frame)\n",
    "        # to quit with Q key\n",
    "        if cv.waitKey(1) & 0xFF == ord('q'):\n",
    "            break\n",
    "    else:\n",
    "        break\n",
    "# Step-4 release or close windows easily\n",
    "cap.release()\n",
    "# After we release our webcam, we also release the output\n",
    "out.release()\n",
    "cv.destroyAllWindows\n"
   ]
  }
 ],
 "metadata": {
  "language_info": {
   "name": "python"
  },
  "orig_nbformat": 4
 },
 "nbformat": 4,
 "nbformat_minor": 2
}
