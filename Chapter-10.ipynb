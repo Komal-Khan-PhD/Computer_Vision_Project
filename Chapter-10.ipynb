{
 "cells": [
  {
   "cell_type": "markdown",
   "metadata": {},
   "source": [
    "# Convert into different shades of gray and black and white\n"
   ]
  },
  {
   "cell_type": "code",
   "execution_count": null,
   "metadata": {},
   "outputs": [],
   "source": [
    "import cv2 as cv\n",
    "import numpy as np\n",
    "\n",
    "\n",
    "cap =cv.VideoCapture(0)\n",
    "while(True):\n",
    "    (ret, frame) = cap.read()\n",
    "    gray_frame=cv.cvtColor(frame, cv.COLOR_BGR2GRAY) # video is a sequence of images therefore converting frame by frame\n",
    "    (thresh, binary)= cv.threshold(gray_frame,127,255,cv.THRESH_BINARY)\n",
    "    cv.imshow(\"Original Cam\", frame)\n",
    "    cv.imshow(\"Gray Cam\", gray_frame)\n",
    "    cv.imshow(\"Binary Cam\", binary)\n",
    "    if cv.waitKey(1) & 0xFF == ord('q'):\n",
    "        break\n",
    "\n",
    "cap.release()\n",
    "cv.destroyAllWindows"
   ]
  }
 ],
 "metadata": {
  "language_info": {
   "name": "python"
  },
  "orig_nbformat": 4
 },
 "nbformat": 4,
 "nbformat_minor": 2
}
