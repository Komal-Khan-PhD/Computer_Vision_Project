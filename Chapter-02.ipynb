{
 "cells": [
  {
   "cell_type": "markdown",
   "metadata": {},
   "source": [
    "# Reading an image and displaying it\n"
   ]
  },
  {
   "cell_type": "code",
   "execution_count": null,
   "metadata": {},
   "outputs": [],
   "source": [
    "# import library\n",
    "import cv2 as cv\n",
    "\n",
    "# To read the image \n",
    "img= cv.imread('resources\\image.jpg')\n",
    "# To resize the image\n",
    "img1= cv.resize(img,(800,600))\n",
    "\n",
    "# To show the image in window\n",
    "cv.imshow(\"Pehli image\",img)\n",
    "cv.imshow(\"Dosri image\",img1)\n",
    "\n",
    "# To wait 0 represents forever\n",
    "cv.waitKey(0)\n",
    "cv.destroyAllWindows"
   ]
  }
 ],
 "metadata": {
  "language_info": {
   "name": "python"
  },
  "orig_nbformat": 4
 },
 "nbformat": 4,
 "nbformat_minor": 2
}
