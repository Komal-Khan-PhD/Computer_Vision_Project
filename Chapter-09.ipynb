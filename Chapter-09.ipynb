{
 "cells": [
  {
   "cell_type": "markdown",
   "metadata": {},
   "source": [
    "# How to capture a webcam inside python"
   ]
  },
  {
   "cell_type": "code",
   "execution_count": null,
   "metadata": {},
   "outputs": [],
   "source": [
    "\n",
    "# Step-1 Import libraries\n",
    "\n",
    "import cv2 as cv\n",
    "import numpy as np \n",
    "\n",
    "# Step-2 Read the frames from Camera\n",
    "cap= cv.VideoCapture(0) # webcam number 1\n",
    "\n",
    "# read until the end\n",
    "# Step-3 Display the cam frame by frame\n",
    "while(cap.isOpened()):\n",
    "    # capture frame by frame\n",
    "    ret, frame = cap.read()\n",
    "    if ret == True:\n",
    "        # to display frame\n",
    "        cv.imshow(\"Frame\",frame)\n",
    "        # to quit with Q key\n",
    "        if cv.waitKey(1) & 0xFF == ord('q'):\n",
    "            break\n",
    "    else:\n",
    "        break\n",
    "\n",
    "# Step-4 release or close windows easily\n",
    "cap.release()\n",
    "cv.destroyAllWindows\n",
    "\n",
    "    "
   ]
  }
 ],
 "metadata": {
  "language_info": {
   "name": "python"
  },
  "orig_nbformat": 4
 },
 "nbformat": 4,
 "nbformat_minor": 2
}
